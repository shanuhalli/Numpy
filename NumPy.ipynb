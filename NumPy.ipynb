{
 "cells": [
  {
   "cell_type": "markdown",
   "id": "bd6e26d3",
   "metadata": {},
   "source": [
    "## Why Numpy?\n",
    "\n",
    "\n",
    "#### Is used for performing numerical operations like array addition, subtraction, multiplication, to create some random numbers, create dummy values, etc.,"
   ]
  },
  {
   "cell_type": "markdown",
   "id": "1fef5894",
   "metadata": {},
   "source": [
    "###  Import Numpy Package "
   ]
  },
  {
   "cell_type": "code",
   "execution_count": 1,
   "id": "1b83f517",
   "metadata": {},
   "outputs": [
    {
     "name": "stdout",
     "output_type": "stream",
     "text": [
      "Requirement already satisfied: numpy in c:\\users\\shanu\\anaconda3\\lib\\site-packages (1.21.5)\n"
     ]
    }
   ],
   "source": [
    "!pip install numpy"
   ]
  },
  {
   "cell_type": "code",
   "execution_count": 2,
   "id": "efe992ac",
   "metadata": {},
   "outputs": [],
   "source": [
    "import numpy as np"
   ]
  },
  {
   "cell_type": "markdown",
   "id": "5a72f144",
   "metadata": {},
   "source": [
    "### Print the numpy version and the configuration"
   ]
  },
  {
   "cell_type": "code",
   "execution_count": 3,
   "id": "cf6f8566",
   "metadata": {},
   "outputs": [
    {
     "name": "stdout",
     "output_type": "stream",
     "text": [
      "1.21.5\n",
      "blas_mkl_info:\n",
      "    libraries = ['mkl_rt']\n",
      "    library_dirs = ['C:/Users/shanu/anaconda3\\\\Library\\\\lib']\n",
      "    define_macros = [('SCIPY_MKL_H', None), ('HAVE_CBLAS', None)]\n",
      "    include_dirs = ['C:/Users/shanu/anaconda3\\\\Library\\\\include']\n",
      "blas_opt_info:\n",
      "    libraries = ['mkl_rt']\n",
      "    library_dirs = ['C:/Users/shanu/anaconda3\\\\Library\\\\lib']\n",
      "    define_macros = [('SCIPY_MKL_H', None), ('HAVE_CBLAS', None)]\n",
      "    include_dirs = ['C:/Users/shanu/anaconda3\\\\Library\\\\include']\n",
      "lapack_mkl_info:\n",
      "    libraries = ['mkl_rt']\n",
      "    library_dirs = ['C:/Users/shanu/anaconda3\\\\Library\\\\lib']\n",
      "    define_macros = [('SCIPY_MKL_H', None), ('HAVE_CBLAS', None)]\n",
      "    include_dirs = ['C:/Users/shanu/anaconda3\\\\Library\\\\include']\n",
      "lapack_opt_info:\n",
      "    libraries = ['mkl_rt']\n",
      "    library_dirs = ['C:/Users/shanu/anaconda3\\\\Library\\\\lib']\n",
      "    define_macros = [('SCIPY_MKL_H', None), ('HAVE_CBLAS', None)]\n",
      "    include_dirs = ['C:/Users/shanu/anaconda3\\\\Library\\\\include']\n",
      "Supported SIMD extensions in this NumPy install:\n",
      "    baseline = SSE,SSE2,SSE3\n",
      "    found = SSSE3,SSE41,POPCNT,SSE42,AVX,F16C,FMA3,AVX2,AVX512F,AVX512CD,AVX512_SKX,AVX512_CLX,AVX512_CNL\n",
      "    not found = \n"
     ]
    }
   ],
   "source": [
    "print(np.__version__)\n",
    "np.show_config()"
   ]
  },
  {
   "cell_type": "code",
   "execution_count": 4,
   "id": "230a9960",
   "metadata": {},
   "outputs": [
    {
     "data": {
      "text/plain": [
       "list"
      ]
     },
     "execution_count": 4,
     "metadata": {},
     "output_type": "execute_result"
    }
   ],
   "source": [
    "a = [1,2,3,4] #List\n",
    "type(a)"
   ]
  },
  {
   "cell_type": "code",
   "execution_count": 5,
   "id": "5e887138",
   "metadata": {},
   "outputs": [
    {
     "data": {
      "text/plain": [
       "array([1, 2, 3, 4])"
      ]
     },
     "execution_count": 5,
     "metadata": {},
     "output_type": "execute_result"
    }
   ],
   "source": [
    "arr_1 = np.array(object = [1,2,3,4]) #Array\n",
    "arr_1"
   ]
  },
  {
   "cell_type": "code",
   "execution_count": 6,
   "id": "e7ff21bc",
   "metadata": {},
   "outputs": [
    {
     "data": {
      "text/plain": [
       "numpy.ndarray"
      ]
     },
     "execution_count": 6,
     "metadata": {},
     "output_type": "execute_result"
    }
   ],
   "source": [
    "type(arr_1)"
   ]
  },
  {
   "cell_type": "code",
   "execution_count": 7,
   "id": "a11ecd34",
   "metadata": {},
   "outputs": [
    {
     "data": {
      "text/plain": [
       "array(['1', '1.2', '1', '3', '5.6'], dtype='<U32')"
      ]
     },
     "execution_count": 7,
     "metadata": {},
     "output_type": "execute_result"
    }
   ],
   "source": [
    "arr_3 = np.array([1,1.2,1,3,'5.6'])\n",
    "arr_3"
   ]
  },
  {
   "cell_type": "code",
   "execution_count": 8,
   "id": "b7a6c973",
   "metadata": {},
   "outputs": [
    {
     "data": {
      "text/plain": [
       "array([1. , 1.2, 1. , 3. , 1. ])"
      ]
     },
     "execution_count": 8,
     "metadata": {},
     "output_type": "execute_result"
    }
   ],
   "source": [
    "arr_3 = np.array([1,1.2,1,3,1])\n",
    "arr_3"
   ]
  },
  {
   "cell_type": "code",
   "execution_count": 9,
   "id": "9efab3c7",
   "metadata": {},
   "outputs": [
    {
     "data": {
      "text/plain": [
       "[1, 2, 3, 4]"
      ]
     },
     "execution_count": 9,
     "metadata": {},
     "output_type": "execute_result"
    }
   ],
   "source": [
    "a"
   ]
  },
  {
   "cell_type": "code",
   "execution_count": 10,
   "id": "c680504e",
   "metadata": {},
   "outputs": [
    {
     "data": {
      "text/plain": [
       "array([3. , 3.2, 3. , 5. , 3. ])"
      ]
     },
     "execution_count": 10,
     "metadata": {},
     "output_type": "execute_result"
    }
   ],
   "source": [
    "arr_3 + 2"
   ]
  },
  {
   "cell_type": "code",
   "execution_count": 11,
   "id": "619f67e5",
   "metadata": {},
   "outputs": [
    {
     "data": {
      "text/plain": [
       "array([1. , 1.2, 1. , 3. , 1. ])"
      ]
     },
     "execution_count": 11,
     "metadata": {},
     "output_type": "execute_result"
    }
   ],
   "source": [
    "arr_3"
   ]
  },
  {
   "cell_type": "code",
   "execution_count": 12,
   "id": "13a21d8c",
   "metadata": {},
   "outputs": [
    {
     "data": {
      "text/plain": [
       "array([1. , 1.2, 1. , 3. , 1. ])"
      ]
     },
     "execution_count": 12,
     "metadata": {},
     "output_type": "execute_result"
    }
   ],
   "source": [
    "arr_3 = arr_3.astype('float')\n",
    "arr_3"
   ]
  },
  {
   "cell_type": "code",
   "execution_count": 13,
   "id": "bcec72d3",
   "metadata": {},
   "outputs": [
    {
     "data": {
      "text/plain": [
       "array([3. , 3.2, 3. , 5. , 3. ])"
      ]
     },
     "execution_count": 13,
     "metadata": {},
     "output_type": "execute_result"
    }
   ],
   "source": [
    "arr_3 + 2"
   ]
  },
  {
   "cell_type": "code",
   "execution_count": 14,
   "id": "cbf20974",
   "metadata": {
    "scrolled": true
   },
   "outputs": [
    {
     "data": {
      "text/plain": [
       "[1.0, 1.2, 1.0, 3.0, 1.0]"
      ]
     },
     "execution_count": 14,
     "metadata": {},
     "output_type": "execute_result"
    }
   ],
   "source": [
    "arr_3.tolist()"
   ]
  },
  {
   "cell_type": "markdown",
   "id": "750c3907",
   "metadata": {},
   "source": [
    "### Create 1D Array"
   ]
  },
  {
   "cell_type": "code",
   "execution_count": 15,
   "id": "18fdfdfa",
   "metadata": {},
   "outputs": [
    {
     "data": {
      "text/plain": [
       "array(['1', '1.2', '1', '3', '5.6'], dtype='<U32')"
      ]
     },
     "execution_count": 15,
     "metadata": {},
     "output_type": "execute_result"
    }
   ],
   "source": [
    "arr_3 = np.array([1,1.2,1,3,'5.6'])\n",
    "arr_3"
   ]
  },
  {
   "cell_type": "code",
   "execution_count": 16,
   "id": "9e942114",
   "metadata": {},
   "outputs": [
    {
     "data": {
      "text/plain": [
       "1"
      ]
     },
     "execution_count": 16,
     "metadata": {},
     "output_type": "execute_result"
    }
   ],
   "source": [
    "arr_3.ndim"
   ]
  },
  {
   "cell_type": "markdown",
   "id": "53101c5f",
   "metadata": {},
   "source": [
    "### Create 2D Array"
   ]
  },
  {
   "cell_type": "code",
   "execution_count": 17,
   "id": "f5c37519",
   "metadata": {},
   "outputs": [
    {
     "data": {
      "text/plain": [
       "array([[1, 2, 3],\n",
       "       [4, 5, 6],\n",
       "       [7, 8, 9]])"
      ]
     },
     "execution_count": 17,
     "metadata": {},
     "output_type": "execute_result"
    }
   ],
   "source": [
    "arr_4 = np.array([[1,2,3],[4,5,6],[7,8,9]])\n",
    "arr_4"
   ]
  },
  {
   "cell_type": "code",
   "execution_count": 18,
   "id": "1b5713d0",
   "metadata": {},
   "outputs": [
    {
     "data": {
      "text/plain": [
       "numpy.ndarray"
      ]
     },
     "execution_count": 18,
     "metadata": {},
     "output_type": "execute_result"
    }
   ],
   "source": [
    "type(arr_4)"
   ]
  },
  {
   "cell_type": "code",
   "execution_count": 19,
   "id": "e53850c5",
   "metadata": {},
   "outputs": [
    {
     "data": {
      "text/plain": [
       "2"
      ]
     },
     "execution_count": 19,
     "metadata": {},
     "output_type": "execute_result"
    }
   ],
   "source": [
    "arr_4.ndim"
   ]
  },
  {
   "cell_type": "code",
   "execution_count": 20,
   "id": "3bdcf9dc",
   "metadata": {},
   "outputs": [
    {
     "name": "stdout",
     "output_type": "stream",
     "text": [
      "[[0 0 0 0 0]\n",
      " [1 0 0 0 0]\n",
      " [0 2 0 0 0]\n",
      " [0 0 3 0 0]\n",
      " [0 0 0 4 0]]\n"
     ]
    }
   ],
   "source": [
    "arr_5 = np.diag(1+np.arange(4),k=-1)\n",
    "print(arr_5)"
   ]
  },
  {
   "cell_type": "code",
   "execution_count": 21,
   "id": "d58b4b6b",
   "metadata": {},
   "outputs": [
    {
     "name": "stdout",
     "output_type": "stream",
     "text": [
      "[[0. 1. 2. 3. 4.]\n",
      " [0. 1. 2. 3. 4.]\n",
      " [0. 1. 2. 3. 4.]\n",
      " [0. 1. 2. 3. 4.]\n",
      " [0. 1. 2. 3. 4.]]\n"
     ]
    }
   ],
   "source": [
    "arr_6 = np.zeros((5,5))\n",
    "arr_6 += np.arange(5)\n",
    "print(arr_6)"
   ]
  },
  {
   "cell_type": "markdown",
   "id": "61ab2748",
   "metadata": {},
   "source": [
    "### Create 3D Array"
   ]
  },
  {
   "cell_type": "code",
   "execution_count": 22,
   "id": "6c576f33",
   "metadata": {},
   "outputs": [
    {
     "data": {
      "text/plain": [
       "array([[[1, 2, 3],\n",
       "        [4, 5, 6],\n",
       "        [7, 8, 9]]])"
      ]
     },
     "execution_count": 22,
     "metadata": {},
     "output_type": "execute_result"
    }
   ],
   "source": [
    "arr_7 = np.array([[[1,2,3],[4,5,6],[7,8,9]]])\n",
    "arr_7"
   ]
  },
  {
   "cell_type": "code",
   "execution_count": 23,
   "id": "8494e7ba",
   "metadata": {},
   "outputs": [
    {
     "data": {
      "text/plain": [
       "3"
      ]
     },
     "execution_count": 23,
     "metadata": {},
     "output_type": "execute_result"
    }
   ],
   "source": [
    "arr_7.ndim"
   ]
  },
  {
   "cell_type": "code",
   "execution_count": 24,
   "id": "245040c9",
   "metadata": {},
   "outputs": [
    {
     "data": {
      "text/plain": [
       "[[0, 0, 0, 0, 0],\n",
       " [1, 0, 0, 0, 0],\n",
       " [0, 2, 0, 0, 0],\n",
       " [0, 0, 3, 0, 0],\n",
       " [0, 0, 0, 4, 0]]"
      ]
     },
     "execution_count": 24,
     "metadata": {},
     "output_type": "execute_result"
    }
   ],
   "source": [
    "arr_7_list = arr_5.tolist()\n",
    "arr_7_list"
   ]
  },
  {
   "cell_type": "code",
   "execution_count": 25,
   "id": "47e3ba4e",
   "metadata": {},
   "outputs": [
    {
     "data": {
      "text/plain": [
       "3"
      ]
     },
     "execution_count": 25,
     "metadata": {},
     "output_type": "execute_result"
    }
   ],
   "source": [
    "arr_7.ndim"
   ]
  },
  {
   "cell_type": "markdown",
   "id": "310c2019",
   "metadata": {},
   "source": [
    "### List Vs Array\n",
    "\n",
    "\n",
    "###### 1. In List we cannot do element-wise operation but in Arrays we can.\n",
    "###### 2. Array to List conversion is possible and also List to Array conversion is also possible.\n",
    "###### 3. List is heterogenous datatype but Numpy is a homogenous datatype."
   ]
  },
  {
   "cell_type": "markdown",
   "id": "3e44b077",
   "metadata": {},
   "source": [
    "### Create NaN using numpy"
   ]
  },
  {
   "cell_type": "code",
   "execution_count": 26,
   "id": "81ae9c0f",
   "metadata": {},
   "outputs": [
    {
     "data": {
      "text/plain": [
       "array([[1., 2., 3.],\n",
       "       [4., 5., 6.]])"
      ]
     },
     "execution_count": 26,
     "metadata": {},
     "output_type": "execute_result"
    }
   ],
   "source": [
    "arr_8 = np.array([[1.,2,3],[4,5,6]])\n",
    "arr_8"
   ]
  },
  {
   "cell_type": "code",
   "execution_count": 27,
   "id": "c1e4da9b",
   "metadata": {},
   "outputs": [],
   "source": [
    "arr_8[0][1] = np.nan"
   ]
  },
  {
   "cell_type": "code",
   "execution_count": 28,
   "id": "131ed523",
   "metadata": {},
   "outputs": [
    {
     "data": {
      "text/plain": [
       "array([[ 1., nan,  3.],\n",
       "       [ 4.,  5.,  6.]])"
      ]
     },
     "execution_count": 28,
     "metadata": {},
     "output_type": "execute_result"
    }
   ],
   "source": [
    "arr_8"
   ]
  },
  {
   "cell_type": "markdown",
   "id": "1cf9f3db",
   "metadata": {},
   "source": [
    "### Statistical Operations with numpy"
   ]
  },
  {
   "cell_type": "code",
   "execution_count": 29,
   "id": "645005d4",
   "metadata": {},
   "outputs": [
    {
     "data": {
      "text/plain": [
       "array([ 1,  2,  3,  4,  5,  6,  7,  8,  9, 10])"
      ]
     },
     "execution_count": 29,
     "metadata": {},
     "output_type": "execute_result"
    }
   ],
   "source": [
    "arr_9 = np.array([1,2,3,4,5,6,7,8,9,10])\n",
    "arr_9"
   ]
  },
  {
   "cell_type": "code",
   "execution_count": 30,
   "id": "74fae036",
   "metadata": {},
   "outputs": [
    {
     "data": {
      "text/plain": [
       "3628800"
      ]
     },
     "execution_count": 30,
     "metadata": {},
     "output_type": "execute_result"
    }
   ],
   "source": [
    "arr_9.prod()"
   ]
  },
  {
   "cell_type": "code",
   "execution_count": 31,
   "id": "1eab643e",
   "metadata": {},
   "outputs": [
    {
     "data": {
      "text/plain": [
       "55"
      ]
     },
     "execution_count": 31,
     "metadata": {},
     "output_type": "execute_result"
    }
   ],
   "source": [
    "arr_9.sum()"
   ]
  },
  {
   "cell_type": "code",
   "execution_count": 32,
   "id": "df829080",
   "metadata": {},
   "outputs": [
    {
     "data": {
      "text/plain": [
       "5.5"
      ]
     },
     "execution_count": 32,
     "metadata": {},
     "output_type": "execute_result"
    }
   ],
   "source": [
    "arr_9.mean()"
   ]
  },
  {
   "cell_type": "code",
   "execution_count": 33,
   "id": "7700144a",
   "metadata": {},
   "outputs": [
    {
     "data": {
      "text/plain": [
       "2.8722813232690143"
      ]
     },
     "execution_count": 33,
     "metadata": {},
     "output_type": "execute_result"
    }
   ],
   "source": [
    "arr_9.std()"
   ]
  },
  {
   "cell_type": "code",
   "execution_count": 34,
   "id": "8e556a38",
   "metadata": {},
   "outputs": [
    {
     "data": {
      "text/plain": [
       "9"
      ]
     },
     "execution_count": 34,
     "metadata": {},
     "output_type": "execute_result"
    }
   ],
   "source": [
    "arr_9.argmax()"
   ]
  },
  {
   "cell_type": "code",
   "execution_count": 35,
   "id": "eab95ee2",
   "metadata": {},
   "outputs": [
    {
     "data": {
      "text/plain": [
       "10"
      ]
     },
     "execution_count": 35,
     "metadata": {},
     "output_type": "execute_result"
    }
   ],
   "source": [
    "arr_9.max()"
   ]
  },
  {
   "cell_type": "code",
   "execution_count": 36,
   "id": "a376da7e",
   "metadata": {},
   "outputs": [
    {
     "data": {
      "text/plain": [
       "1"
      ]
     },
     "execution_count": 36,
     "metadata": {},
     "output_type": "execute_result"
    }
   ],
   "source": [
    "arr_9.min()"
   ]
  },
  {
   "cell_type": "markdown",
   "id": "aa308ac5",
   "metadata": {},
   "source": [
    "### Reshaping an Array"
   ]
  },
  {
   "cell_type": "code",
   "execution_count": 37,
   "id": "48eaa79a",
   "metadata": {},
   "outputs": [
    {
     "data": {
      "text/plain": [
       "array([[0, 0, 0, 0, 0],\n",
       "       [1, 0, 0, 0, 0],\n",
       "       [0, 2, 0, 0, 0],\n",
       "       [0, 0, 3, 0, 0],\n",
       "       [0, 0, 0, 4, 0]])"
      ]
     },
     "execution_count": 37,
     "metadata": {},
     "output_type": "execute_result"
    }
   ],
   "source": [
    "arr_5"
   ]
  },
  {
   "cell_type": "code",
   "execution_count": 38,
   "id": "450a0adb",
   "metadata": {},
   "outputs": [
    {
     "data": {
      "text/plain": [
       "2"
      ]
     },
     "execution_count": 38,
     "metadata": {},
     "output_type": "execute_result"
    }
   ],
   "source": [
    "arr_5.ndim"
   ]
  },
  {
   "cell_type": "code",
   "execution_count": 39,
   "id": "99851392",
   "metadata": {},
   "outputs": [
    {
     "data": {
      "text/plain": [
       "array([[[[1, 2, 3],\n",
       "         [4, 5, 6],\n",
       "         [7, 8, 9]]]])"
      ]
     },
     "execution_count": 39,
     "metadata": {},
     "output_type": "execute_result"
    }
   ],
   "source": [
    "arr_5 = np.array([[[[1,2,3],[4,5,6],[7,8,9]]]])\n",
    "arr_5"
   ]
  },
  {
   "cell_type": "code",
   "execution_count": 40,
   "id": "dad2c36e",
   "metadata": {},
   "outputs": [
    {
     "data": {
      "text/plain": [
       "4"
      ]
     },
     "execution_count": 40,
     "metadata": {},
     "output_type": "execute_result"
    }
   ],
   "source": [
    "arr_5.ndim"
   ]
  },
  {
   "cell_type": "code",
   "execution_count": 41,
   "id": "d9e1b274",
   "metadata": {},
   "outputs": [],
   "source": [
    "arr_5 = np.reshape(a = arr_5,newshape = (1,9))"
   ]
  },
  {
   "cell_type": "code",
   "execution_count": 42,
   "id": "98f18af0",
   "metadata": {},
   "outputs": [
    {
     "data": {
      "text/plain": [
       "array([[1, 2, 3, 4, 5, 6, 7, 8, 9]])"
      ]
     },
     "execution_count": 42,
     "metadata": {},
     "output_type": "execute_result"
    }
   ],
   "source": [
    "arr_5"
   ]
  },
  {
   "cell_type": "code",
   "execution_count": 43,
   "id": "aecebb87",
   "metadata": {},
   "outputs": [
    {
     "data": {
      "text/plain": [
       "2"
      ]
     },
     "execution_count": 43,
     "metadata": {},
     "output_type": "execute_result"
    }
   ],
   "source": [
    "arr_5.ndim"
   ]
  },
  {
   "cell_type": "markdown",
   "id": "2320bd56",
   "metadata": {},
   "source": [
    "### Convert ndim to 1D"
   ]
  },
  {
   "cell_type": "code",
   "execution_count": 44,
   "id": "3fd4db2f",
   "metadata": {},
   "outputs": [
    {
     "data": {
      "text/plain": [
       "array([[1, 2, 3],\n",
       "       [4, 5, 6],\n",
       "       [7, 8, 9]])"
      ]
     },
     "execution_count": 44,
     "metadata": {},
     "output_type": "execute_result"
    }
   ],
   "source": [
    "arr_10 = np.array([[1,2,3],[4,5,6],[7,8,9]])\n",
    "arr_10"
   ]
  },
  {
   "cell_type": "code",
   "execution_count": 45,
   "id": "2dcc4d70",
   "metadata": {},
   "outputs": [
    {
     "data": {
      "text/plain": [
       "2"
      ]
     },
     "execution_count": 45,
     "metadata": {},
     "output_type": "execute_result"
    }
   ],
   "source": [
    "arr_10.ndim"
   ]
  },
  {
   "cell_type": "code",
   "execution_count": 46,
   "id": "b331259e",
   "metadata": {},
   "outputs": [
    {
     "data": {
      "text/plain": [
       "array([1, 2, 3, 4, 5, 6, 7, 8, 9])"
      ]
     },
     "execution_count": 46,
     "metadata": {},
     "output_type": "execute_result"
    }
   ],
   "source": [
    "arr_10 = arr_5.flatten()\n",
    "arr_10"
   ]
  },
  {
   "cell_type": "code",
   "execution_count": 47,
   "id": "c6f345d0",
   "metadata": {},
   "outputs": [
    {
     "data": {
      "text/plain": [
       "1"
      ]
     },
     "execution_count": 47,
     "metadata": {},
     "output_type": "execute_result"
    }
   ],
   "source": [
    "arr_10.ndim"
   ]
  },
  {
   "cell_type": "markdown",
   "id": "330a2c26",
   "metadata": {},
   "source": [
    "### Get duplicate entries"
   ]
  },
  {
   "cell_type": "code",
   "execution_count": 48,
   "id": "9ccd8d39",
   "metadata": {},
   "outputs": [
    {
     "data": {
      "text/plain": [
       "array([[[1, 2, 3],\n",
       "        [4, 5, 6],\n",
       "        [7, 8, 9]]])"
      ]
     },
     "execution_count": 48,
     "metadata": {},
     "output_type": "execute_result"
    }
   ],
   "source": [
    "arr_11 = np.array([[[1,2,3],[4,5,6],[7,8,9]]])\n",
    "arr_11"
   ]
  },
  {
   "cell_type": "code",
   "execution_count": 49,
   "id": "5717a4b1",
   "metadata": {},
   "outputs": [
    {
     "data": {
      "text/plain": [
       "array([[[1, 2, 3],\n",
       "        [4, 5, 6],\n",
       "        [7, 8, 9]],\n",
       "\n",
       "       [[1, 2, 3],\n",
       "        [4, 5, 6],\n",
       "        [7, 8, 9]],\n",
       "\n",
       "       [[1, 2, 3],\n",
       "        [4, 5, 6],\n",
       "        [7, 8, 9]],\n",
       "\n",
       "       [[1, 2, 3],\n",
       "        [4, 5, 6],\n",
       "        [7, 8, 9]],\n",
       "\n",
       "       [[1, 2, 3],\n",
       "        [4, 5, 6],\n",
       "        [7, 8, 9]]])"
      ]
     },
     "execution_count": 49,
     "metadata": {},
     "output_type": "execute_result"
    }
   ],
   "source": [
    "np.repeat(arr_11,repeats = 5,axis=0)"
   ]
  },
  {
   "cell_type": "markdown",
   "id": "589dd971",
   "metadata": {},
   "source": [
    "### Sequencing and Random Numbers"
   ]
  },
  {
   "cell_type": "code",
   "execution_count": 50,
   "id": "d8e40b29",
   "metadata": {},
   "outputs": [
    {
     "data": {
      "text/plain": [
       "array([ 1,  2,  3,  4,  5,  6,  7,  8,  9, 10])"
      ]
     },
     "execution_count": 50,
     "metadata": {},
     "output_type": "execute_result"
    }
   ],
   "source": [
    "np.arange(1,11)"
   ]
  },
  {
   "cell_type": "code",
   "execution_count": 51,
   "id": "86e551ef",
   "metadata": {},
   "outputs": [
    {
     "data": {
      "text/plain": [
       "array([  1.   ,   5.125,   9.25 ,  13.375,  17.5  ,  21.625,  25.75 ,\n",
       "        29.875,  34.   ,  38.125,  42.25 ,  46.375,  50.5  ,  54.625,\n",
       "        58.75 ,  62.875,  67.   ,  71.125,  75.25 ,  79.375,  83.5  ,\n",
       "        87.625,  91.75 ,  95.875, 100.   ])"
      ]
     },
     "execution_count": 51,
     "metadata": {},
     "output_type": "execute_result"
    }
   ],
   "source": [
    "np.linspace(start = 1,stop = 100,num=25)"
   ]
  },
  {
   "cell_type": "code",
   "execution_count": 52,
   "id": "16976c62",
   "metadata": {},
   "outputs": [
    {
     "data": {
      "text/plain": [
       "array([[0.85, 0.59, 0.52, 0.25, 0.25, 0.26, 0.39, 0.14, 0.12, 0.25],\n",
       "       [0.61, 0.37, 0.59, 0.53, 0.54, 0.78, 0.48, 0.04, 0.21, 0.93],\n",
       "       [0.38, 0.94, 0.49, 0.71, 0.02, 0.36, 0.78, 0.47, 0.71, 0.72],\n",
       "       [0.37, 0.03, 0.85, 0.55, 0.38, 0.41, 0.47, 0.74, 0.92, 0.93],\n",
       "       [0.88, 0.44, 0.51, 0.75, 0.83, 0.14, 0.56, 0.95, 0.16, 0.74],\n",
       "       [0.69, 0.55, 0.47, 0.65, 0.42, 0.31, 0.15, 0.75, 0.73, 0.88],\n",
       "       [0.46, 0.16, 0.83, 0.75, 0.5 , 0.53, 0.42, 0.58, 0.33, 0.63],\n",
       "       [0.16, 0.25, 0.36, 0.8 , 0.03, 0.96, 0.8 , 0.92, 0.15, 0.93],\n",
       "       [0.92, 0.78, 0.77, 0.36, 0.55, 0.92, 0.18, 0.06, 0.06, 0.54],\n",
       "       [0.98, 0.95, 0.01, 0.92, 0.47, 0.8 , 0.52, 0.38, 0.31, 0.77]])"
      ]
     },
     "execution_count": 52,
     "metadata": {},
     "output_type": "execute_result"
    }
   ],
   "source": [
    "random_numbers_uniform_distribtion = np.random.rand(10,10).round(2)\n",
    "random_numbers_uniform_distribtion "
   ]
  },
  {
   "cell_type": "code",
   "execution_count": 53,
   "id": "96e0cd07",
   "metadata": {},
   "outputs": [
    {
     "data": {
      "image/png": "[encoded data removed]",
      "text/plain": [
       "<Figure size 432x288 with 1 Axes>"
      ]
     },
     "metadata": {
      "needs_background": "light"
     },
     "output_type": "display_data"
    }
   ],
   "source": [
    "import matplotlib.pyplot as plt\n",
    "plt.hist(random_numbers_uniform_distribtion)\n",
    "plt.show()"
   ]
  },
  {
   "cell_type": "code",
   "execution_count": 54,
   "id": "aa894955",
   "metadata": {},
   "outputs": [
    {
     "data": {
      "text/plain": [
       "array([[-1.0856306 ,  0.99734545,  0.2829785 , -1.50629471, -0.57860025,\n",
       "         1.65143654, -2.42667924, -0.42891263,  1.26593626, -0.8667404 ],\n",
       "       [-0.67888615, -0.09470897,  1.49138963, -0.638902  , -0.44398196,\n",
       "        -0.43435128,  2.20593008,  2.18678609,  1.0040539 ,  0.3861864 ],\n",
       "       [ 0.73736858,  1.49073203, -0.93583387,  1.17582904, -1.25388067,\n",
       "        -0.6377515 ,  0.9071052 , -1.4286807 , -0.14006872, -0.8617549 ],\n",
       "       [-0.25561937, -2.79858911, -1.7715331 , -0.69987723,  0.92746243,\n",
       "        -0.17363568,  0.00284592,  0.68822271, -0.87953634,  0.28362732],\n",
       "       [-0.80536652, -1.72766949, -0.39089979,  0.57380586,  0.33858905,\n",
       "        -0.01183049,  2.39236527,  0.41291216,  0.97873601,  2.23814334],\n",
       "       [-1.29408532, -1.03878821,  1.74371223, -0.79806274,  0.02968323,\n",
       "         1.06931597,  0.89070639,  1.75488618,  1.49564414,  1.06939267],\n",
       "       [-0.77270871,  0.79486267,  0.31427199, -1.32626546,  1.41729905,\n",
       "         0.80723653,  0.04549008, -0.23309206, -1.19830114,  0.19952407],\n",
       "       [ 0.46843912, -0.83115498,  1.16220405, -1.09720305, -2.12310035,\n",
       "         1.03972709, -0.40336604, -0.12602959, -0.83751672, -1.60596276],\n",
       "       [ 1.25523737, -0.68886898,  1.66095249,  0.80730819, -0.31475815,\n",
       "        -1.0859024 , -0.73246199, -1.21252313,  2.08711336,  0.16444123],\n",
       "       [ 1.15020554, -1.26735205,  0.18103513,  1.17786194, -0.33501076,\n",
       "         1.03111446, -1.08456791, -1.36347154,  0.37940061, -0.37917643]])"
      ]
     },
     "execution_count": 54,
     "metadata": {},
     "output_type": "execute_result"
    }
   ],
   "source": [
    "np.random.seed(123)\n",
    "\n",
    "random_numbers_norm_distribution = np.random.randn(10,10)\n",
    "random_numbers_norm_distribution"
   ]
  },
  {
   "cell_type": "code",
   "execution_count": 55,
   "id": "7dc6c16e",
   "metadata": {
    "scrolled": true
   },
   "outputs": [
    {
     "data": {
      "image/png": "[encoded data removed]",
      "text/plain": [
       "<Figure size 432x288 with 1 Axes>"
      ]
     },
     "metadata": {
      "needs_background": "light"
     },
     "output_type": "display_data"
    }
   ],
   "source": [
    "plt.hist(random_numbers_norm_distribution)\n",
    "plt.show()"
   ]
  },
  {
   "cell_type": "code",
   "execution_count": 56,
   "id": "25ceca82",
   "metadata": {},
   "outputs": [
    {
     "name": "stdout",
     "output_type": "stream",
     "text": [
      "[0.00268806 0.20763586 0.29248941 0.33867085 0.52001015 0.52153306\n",
      " 0.55237008 0.57855147 0.90534158 0.98834542]\n"
     ]
    }
   ],
   "source": [
    "Z = np.random.random(10)\n",
    "Z.sort()\n",
    "print(Z)"
   ]
  },
  {
   "cell_type": "markdown",
   "id": "eaf6366c",
   "metadata": {},
   "source": [
    "# THE END!!"
   ]
  }
 ],
 "metadata": {
  "kernelspec": {
   "display_name": "Python 3 (ipykernel)",
   "language": "python",
   "name": "python3"
  },
  "language_info": {
   "codemirror_mode": {
    "name": "ipython",
    "version": 3
   },
   "file_extension": ".py",
   "mimetype": "text/x-python",
   "name": "python",
   "nbconvert_exporter": "python",
   "pygments_lexer": "ipython3",
   "version": "3.9.12"
  }
 },
 "nbformat": 4,
 "nbformat_minor": 5
}
