{
 "cells": [
  {
   "cell_type": "markdown",
   "id": "bd6e26d3",
   "metadata": {},
   "source": [
    "## Why Numpy?\n",
    "\n",
    "\n",
    "#### Is used for performing numerical operations like array addition, subtraction, multiplication, to create some random numbers, create dummy values, etc.."
   ]
  },
  {
   "cell_type": "code",
   "execution_count": 1,
   "id": "1b83f517",
   "metadata": {},
   "outputs": [
    {
     "name": "stdout",
     "output_type": "stream",
     "text": [
      "Requirement already satisfied: numpy in c:\\users\\shanu\\anaconda3\\lib\\site-packages (1.21.5)\n"
     ]
    }
   ],
   "source": [
    "!pip install numpy"
   ]
  },
  {
   "cell_type": "code",
   "execution_count": 2,
   "id": "efe992ac",
   "metadata": {},
   "outputs": [],
   "source": [
    "import numpy as np"
   ]
  },
  {
   "cell_type": "code",
   "execution_count": 3,
   "id": "230a9960",
   "metadata": {},
   "outputs": [
    {
     "data": {
      "text/plain": [
       "list"
      ]
     },
     "execution_count": 3,
     "metadata": {},
     "output_type": "execute_result"
    }
   ],
   "source": [
    "a = [1,2,3,4] #List\n",
    "type(a)"
   ]
  },
  {
   "cell_type": "code",
   "execution_count": 4,
   "id": "5e887138",
   "metadata": {},
   "outputs": [
    {
     "data": {
      "text/plain": [
       "array([1, 2, 3, 4])"
      ]
     },
     "execution_count": 4,
     "metadata": {},
     "output_type": "execute_result"
    }
   ],
   "source": [
    "arr_1 = np.array(object = [1,2,3,4]) #Array\n",
    "arr_1"
   ]
  },
  {
   "cell_type": "code",
   "execution_count": 5,
   "id": "e7ff21bc",
   "metadata": {},
   "outputs": [
    {
     "data": {
      "text/plain": [
       "numpy.ndarray"
      ]
     },
     "execution_count": 5,
     "metadata": {},
     "output_type": "execute_result"
    }
   ],
   "source": [
    "type(arr_1)"
   ]
  },
  {
   "cell_type": "code",
   "execution_count": 6,
   "id": "a11ecd34",
   "metadata": {},
   "outputs": [
    {
     "data": {
      "text/plain": [
       "array(['1', '1.2', '1', '3', '5.6'], dtype='<U32')"
      ]
     },
     "execution_count": 6,
     "metadata": {},
     "output_type": "execute_result"
    }
   ],
   "source": [
    "arr_3 = np.array([1,1.2,1,3,'5.6'])\n",
    "arr_3"
   ]
  },
  {
   "cell_type": "code",
   "execution_count": 7,
   "id": "b7a6c973",
   "metadata": {},
   "outputs": [
    {
     "data": {
      "text/plain": [
       "array([1. , 1.2, 1. , 3. , 1. ])"
      ]
     },
     "execution_count": 7,
     "metadata": {},
     "output_type": "execute_result"
    }
   ],
   "source": [
    "arr_3 = np.array([1,1.2,1,3,1])\n",
    "arr_3"
   ]
  },
  {
   "cell_type": "code",
   "execution_count": 8,
   "id": "9efab3c7",
   "metadata": {},
   "outputs": [
    {
     "data": {
      "text/plain": [
       "[1, 2, 3, 4]"
      ]
     },
     "execution_count": 8,
     "metadata": {},
     "output_type": "execute_result"
    }
   ],
   "source": [
    "a"
   ]
  },
  {
   "cell_type": "code",
   "execution_count": 9,
   "id": "e51d8243",
   "metadata": {},
   "outputs": [
    {
     "ename": "TypeError",
     "evalue": "can only concatenate list (not \"int\") to list",
     "output_type": "error",
     "traceback": [
      "\u001b[1;31m---------------------------------------------------------------------------\u001b[0m",
      "\u001b[1;31mTypeError\u001b[0m                                 Traceback (most recent call last)",
      "Input \u001b[1;32mIn [9]\u001b[0m, in \u001b[0;36m<cell line: 1>\u001b[1;34m()\u001b[0m\n\u001b[1;32m----> 1\u001b[0m \u001b[43ma\u001b[49m\u001b[43m \u001b[49m\u001b[38;5;241;43m+\u001b[39;49m\u001b[43m \u001b[49m\u001b[38;5;241;43m2\u001b[39;49m\n",
      "\u001b[1;31mTypeError\u001b[0m: can only concatenate list (not \"int\") to list"
     ]
    }
   ],
   "source": [
    "a + 2"
   ]
  },
  {
   "cell_type": "code",
   "execution_count": 10,
   "id": "c680504e",
   "metadata": {},
   "outputs": [
    {
     "data": {
      "text/plain": [
       "array([3. , 3.2, 3. , 5. , 3. ])"
      ]
     },
     "execution_count": 10,
     "metadata": {},
     "output_type": "execute_result"
    }
   ],
   "source": [
    "arr_3 + 2"
   ]
  },
  {
   "cell_type": "code",
   "execution_count": 11,
   "id": "619f67e5",
   "metadata": {},
   "outputs": [
    {
     "data": {
      "text/plain": [
       "array([1. , 1.2, 1. , 3. , 1. ])"
      ]
     },
     "execution_count": 11,
     "metadata": {},
     "output_type": "execute_result"
    }
   ],
   "source": [
    "arr_3"
   ]
  },
  {
   "cell_type": "code",
   "execution_count": 12,
   "id": "13a21d8c",
   "metadata": {},
   "outputs": [
    {
     "data": {
      "text/plain": [
       "array([1. , 1.2, 1. , 3. , 1. ])"
      ]
     },
     "execution_count": 12,
     "metadata": {},
     "output_type": "execute_result"
    }
   ],
   "source": [
    "arr_3 = arr_3.astype('float')\n",
    "arr_3"
   ]
  },
  {
   "cell_type": "code",
   "execution_count": 13,
   "id": "bcec72d3",
   "metadata": {},
   "outputs": [
    {
     "data": {
      "text/plain": [
       "array([3. , 3.2, 3. , 5. , 3. ])"
      ]
     },
     "execution_count": 13,
     "metadata": {},
     "output_type": "execute_result"
    }
   ],
   "source": [
    "arr_3 + 2"
   ]
  },
  {
   "cell_type": "code",
   "execution_count": 14,
   "id": "cbf20974",
   "metadata": {},
   "outputs": [
    {
     "data": {
      "text/plain": [
       "[1.0, 1.2, 1.0, 3.0, 1.0]"
      ]
     },
     "execution_count": 14,
     "metadata": {},
     "output_type": "execute_result"
    }
   ],
   "source": [
    "arr_3.tolist()"
   ]
  },
  {
   "cell_type": "markdown",
   "id": "750c3907",
   "metadata": {},
   "source": [
    "### Create 1D Array"
   ]
  },
  {
   "cell_type": "code",
   "execution_count": 15,
   "id": "18fdfdfa",
   "metadata": {},
   "outputs": [
    {
     "data": {
      "text/plain": [
       "array(['1', '1.2', '1', '3', '5.6'], dtype='<U32')"
      ]
     },
     "execution_count": 15,
     "metadata": {},
     "output_type": "execute_result"
    }
   ],
   "source": [
    "arr_3 = np.array([1,1.2,1,3,'5.6'])\n",
    "arr_3"
   ]
  },
  {
   "cell_type": "code",
   "execution_count": 16,
   "id": "9e942114",
   "metadata": {},
   "outputs": [
    {
     "data": {
      "text/plain": [
       "1"
      ]
     },
     "execution_count": 16,
     "metadata": {},
     "output_type": "execute_result"
    }
   ],
   "source": [
    "arr_3.ndim"
   ]
  },
  {
   "cell_type": "markdown",
   "id": "53101c5f",
   "metadata": {},
   "source": [
    "### Create 2D Array"
   ]
  },
  {
   "cell_type": "code",
   "execution_count": 17,
   "id": "f5c37519",
   "metadata": {},
   "outputs": [
    {
     "data": {
      "text/plain": [
       "array([[1, 2, 3],\n",
       "       [4, 5, 6],\n",
       "       [7, 8, 9]])"
      ]
     },
     "execution_count": 17,
     "metadata": {},
     "output_type": "execute_result"
    }
   ],
   "source": [
    "arr_4 = np.array([[1,2,3],[4,5,6],[7,8,9]])\n",
    "arr_4"
   ]
  },
  {
   "cell_type": "code",
   "execution_count": 18,
   "id": "1b5713d0",
   "metadata": {},
   "outputs": [
    {
     "data": {
      "text/plain": [
       "numpy.ndarray"
      ]
     },
     "execution_count": 18,
     "metadata": {},
     "output_type": "execute_result"
    }
   ],
   "source": [
    "type(arr_4)"
   ]
  },
  {
   "cell_type": "code",
   "execution_count": 19,
   "id": "e53850c5",
   "metadata": {},
   "outputs": [
    {
     "data": {
      "text/plain": [
       "2"
      ]
     },
     "execution_count": 19,
     "metadata": {},
     "output_type": "execute_result"
    }
   ],
   "source": [
    "arr_4.ndim"
   ]
  },
  {
   "cell_type": "markdown",
   "id": "61ab2748",
   "metadata": {},
   "source": [
    "### Create 3D Array"
   ]
  },
  {
   "cell_type": "code",
   "execution_count": 20,
   "id": "6c576f33",
   "metadata": {},
   "outputs": [
    {
     "data": {
      "text/plain": [
       "array([[[1, 2, 3],\n",
       "        [4, 5, 6],\n",
       "        [7, 8, 9]]])"
      ]
     },
     "execution_count": 20,
     "metadata": {},
     "output_type": "execute_result"
    }
   ],
   "source": [
    "arr_5 = np.array([[[1,2,3],[4,5,6],[7,8,9]]])\n",
    "arr_5"
   ]
  },
  {
   "cell_type": "code",
   "execution_count": 21,
   "id": "8494e7ba",
   "metadata": {},
   "outputs": [
    {
     "data": {
      "text/plain": [
       "3"
      ]
     },
     "execution_count": 21,
     "metadata": {},
     "output_type": "execute_result"
    }
   ],
   "source": [
    "arr_5.ndim"
   ]
  },
  {
   "cell_type": "code",
   "execution_count": 22,
   "id": "245040c9",
   "metadata": {},
   "outputs": [
    {
     "data": {
      "text/plain": [
       "[[[1, 2, 3], [4, 5, 6], [7, 8, 9]]]"
      ]
     },
     "execution_count": 22,
     "metadata": {},
     "output_type": "execute_result"
    }
   ],
   "source": [
    "arr_5_list = arr_5.tolist()\n",
    "arr_5_list"
   ]
  },
  {
   "cell_type": "code",
   "execution_count": 23,
   "id": "47e3ba4e",
   "metadata": {},
   "outputs": [
    {
     "data": {
      "text/plain": [
       "3"
      ]
     },
     "execution_count": 23,
     "metadata": {},
     "output_type": "execute_result"
    }
   ],
   "source": [
    "arr_5.ndim"
   ]
  },
  {
   "cell_type": "markdown",
   "id": "310c2019",
   "metadata": {},
   "source": [
    "### List Vs Array\n",
    "\n",
    "\n",
    "###### 1. In List we cannot do element-wise operation but in Arrays we can.\n",
    "###### 2. Array to List conversion is possible and also List to Array conversion is also possible.\n",
    "###### 3. List is heterogenous datatype but Numpy is a homogenous datatype."
   ]
  },
  {
   "cell_type": "markdown",
   "id": "3e44b077",
   "metadata": {},
   "source": [
    "### Create Nan using numpy"
   ]
  },
  {
   "cell_type": "code",
   "execution_count": 24,
   "id": "81ae9c0f",
   "metadata": {},
   "outputs": [
    {
     "data": {
      "text/plain": [
       "array([[1., 2., 3.],\n",
       "       [4., 5., 6.]])"
      ]
     },
     "execution_count": 24,
     "metadata": {},
     "output_type": "execute_result"
    }
   ],
   "source": [
    "arr = np.array([[1.,2,3],[4,5,6]])\n",
    "arr"
   ]
  },
  {
   "cell_type": "code",
   "execution_count": 25,
   "id": "c1e4da9b",
   "metadata": {},
   "outputs": [],
   "source": [
    "arr[0][1] = np.nan"
   ]
  },
  {
   "cell_type": "code",
   "execution_count": 26,
   "id": "131ed523",
   "metadata": {},
   "outputs": [
    {
     "data": {
      "text/plain": [
       "array([[ 1., nan,  3.],\n",
       "       [ 4.,  5.,  6.]])"
      ]
     },
     "execution_count": 26,
     "metadata": {},
     "output_type": "execute_result"
    }
   ],
   "source": [
    "arr"
   ]
  },
  {
   "cell_type": "markdown",
   "id": "1cf9f3db",
   "metadata": {},
   "source": [
    "## Statistical Operations with numpy"
   ]
  },
  {
   "cell_type": "code",
   "execution_count": 27,
   "id": "645005d4",
   "metadata": {},
   "outputs": [
    {
     "data": {
      "text/plain": [
       "array([ 1,  2,  3,  4,  5,  6,  7,  8,  9, 10])"
      ]
     },
     "execution_count": 27,
     "metadata": {},
     "output_type": "execute_result"
    }
   ],
   "source": [
    "arr_6 = np.array([1,2,3,4,5,6,7,8,9,10])\n",
    "arr_6"
   ]
  },
  {
   "cell_type": "code",
   "execution_count": 28,
   "id": "74fae036",
   "metadata": {},
   "outputs": [
    {
     "data": {
      "text/plain": [
       "3628800"
      ]
     },
     "execution_count": 28,
     "metadata": {},
     "output_type": "execute_result"
    }
   ],
   "source": [
    "arr_6.prod()"
   ]
  },
  {
   "cell_type": "code",
   "execution_count": 29,
   "id": "1eab643e",
   "metadata": {},
   "outputs": [
    {
     "data": {
      "text/plain": [
       "55"
      ]
     },
     "execution_count": 29,
     "metadata": {},
     "output_type": "execute_result"
    }
   ],
   "source": [
    "arr_6.sum()"
   ]
  },
  {
   "cell_type": "code",
   "execution_count": 30,
   "id": "df829080",
   "metadata": {},
   "outputs": [
    {
     "data": {
      "text/plain": [
       "5.5"
      ]
     },
     "execution_count": 30,
     "metadata": {},
     "output_type": "execute_result"
    }
   ],
   "source": [
    "arr_6.mean()"
   ]
  },
  {
   "cell_type": "code",
   "execution_count": 31,
   "id": "7700144a",
   "metadata": {},
   "outputs": [
    {
     "data": {
      "text/plain": [
       "2.8722813232690143"
      ]
     },
     "execution_count": 31,
     "metadata": {},
     "output_type": "execute_result"
    }
   ],
   "source": [
    "arr_6.std()"
   ]
  },
  {
   "cell_type": "code",
   "execution_count": 32,
   "id": "8e556a38",
   "metadata": {},
   "outputs": [
    {
     "data": {
      "text/plain": [
       "9"
      ]
     },
     "execution_count": 32,
     "metadata": {},
     "output_type": "execute_result"
    }
   ],
   "source": [
    "arr_6.argmax()"
   ]
  },
  {
   "cell_type": "code",
   "execution_count": 33,
   "id": "eab95ee2",
   "metadata": {},
   "outputs": [
    {
     "data": {
      "text/plain": [
       "10"
      ]
     },
     "execution_count": 33,
     "metadata": {},
     "output_type": "execute_result"
    }
   ],
   "source": [
    "arr_6.max()"
   ]
  },
  {
   "cell_type": "code",
   "execution_count": 34,
   "id": "a376da7e",
   "metadata": {},
   "outputs": [
    {
     "data": {
      "text/plain": [
       "1"
      ]
     },
     "execution_count": 34,
     "metadata": {},
     "output_type": "execute_result"
    }
   ],
   "source": [
    "arr_6.min()"
   ]
  },
  {
   "cell_type": "markdown",
   "id": "aa308ac5",
   "metadata": {},
   "source": [
    "## Reshaping an Array"
   ]
  },
  {
   "cell_type": "code",
   "execution_count": 35,
   "id": "48eaa79a",
   "metadata": {},
   "outputs": [
    {
     "data": {
      "text/plain": [
       "array([[[1, 2, 3],\n",
       "        [4, 5, 6],\n",
       "        [7, 8, 9]]])"
      ]
     },
     "execution_count": 35,
     "metadata": {},
     "output_type": "execute_result"
    }
   ],
   "source": [
    "arr_5"
   ]
  },
  {
   "cell_type": "code",
   "execution_count": 36,
   "id": "450a0adb",
   "metadata": {},
   "outputs": [
    {
     "data": {
      "text/plain": [
       "3"
      ]
     },
     "execution_count": 36,
     "metadata": {},
     "output_type": "execute_result"
    }
   ],
   "source": [
    "arr_5.ndim"
   ]
  },
  {
   "cell_type": "code",
   "execution_count": 37,
   "id": "99851392",
   "metadata": {},
   "outputs": [
    {
     "data": {
      "text/plain": [
       "array([[[[1, 2, 3],\n",
       "         [4, 5, 6],\n",
       "         [7, 8, 9]]]])"
      ]
     },
     "execution_count": 37,
     "metadata": {},
     "output_type": "execute_result"
    }
   ],
   "source": [
    "arr_5 = np.array([[[[1,2,3],[4,5,6],[7,8,9]]]])\n",
    "arr_5"
   ]
  },
  {
   "cell_type": "code",
   "execution_count": 38,
   "id": "dad2c36e",
   "metadata": {},
   "outputs": [
    {
     "data": {
      "text/plain": [
       "4"
      ]
     },
     "execution_count": 38,
     "metadata": {},
     "output_type": "execute_result"
    }
   ],
   "source": [
    "arr_5.ndim"
   ]
  },
  {
   "cell_type": "code",
   "execution_count": 39,
   "id": "d9e1b274",
   "metadata": {},
   "outputs": [],
   "source": [
    "arr_5 = np.reshape(a = arr_5,newshape = (1,9))"
   ]
  },
  {
   "cell_type": "code",
   "execution_count": 40,
   "id": "98f18af0",
   "metadata": {},
   "outputs": [
    {
     "data": {
      "text/plain": [
       "array([[1, 2, 3, 4, 5, 6, 7, 8, 9]])"
      ]
     },
     "execution_count": 40,
     "metadata": {},
     "output_type": "execute_result"
    }
   ],
   "source": [
    "arr_5"
   ]
  },
  {
   "cell_type": "code",
   "execution_count": 41,
   "id": "aecebb87",
   "metadata": {},
   "outputs": [
    {
     "data": {
      "text/plain": [
       "2"
      ]
     },
     "execution_count": 41,
     "metadata": {},
     "output_type": "execute_result"
    }
   ],
   "source": [
    "arr_5.ndim"
   ]
  },
  {
   "cell_type": "markdown",
   "id": "2320bd56",
   "metadata": {},
   "source": [
    "### Convert ndim to 1D"
   ]
  },
  {
   "cell_type": "code",
   "execution_count": 42,
   "id": "3fd4db2f",
   "metadata": {},
   "outputs": [
    {
     "data": {
      "text/plain": [
       "array([[1, 2, 3],\n",
       "       [4, 5, 6],\n",
       "       [7, 8, 9]])"
      ]
     },
     "execution_count": 42,
     "metadata": {},
     "output_type": "execute_result"
    }
   ],
   "source": [
    "arr_5 = np.array([[1,2,3],[4,5,6],[7,8,9]])\n",
    "arr_5"
   ]
  },
  {
   "cell_type": "code",
   "execution_count": 43,
   "id": "2dcc4d70",
   "metadata": {},
   "outputs": [
    {
     "data": {
      "text/plain": [
       "2"
      ]
     },
     "execution_count": 43,
     "metadata": {},
     "output_type": "execute_result"
    }
   ],
   "source": [
    "arr_5.ndim"
   ]
  },
  {
   "cell_type": "code",
   "execution_count": 44,
   "id": "b331259e",
   "metadata": {},
   "outputs": [
    {
     "data": {
      "text/plain": [
       "array([1, 2, 3, 4, 5, 6, 7, 8, 9])"
      ]
     },
     "execution_count": 44,
     "metadata": {},
     "output_type": "execute_result"
    }
   ],
   "source": [
    "arr_5 = arr_5.flatten()\n",
    "arr_5"
   ]
  },
  {
   "cell_type": "code",
   "execution_count": 45,
   "id": "c6f345d0",
   "metadata": {},
   "outputs": [
    {
     "data": {
      "text/plain": [
       "1"
      ]
     },
     "execution_count": 45,
     "metadata": {},
     "output_type": "execute_result"
    }
   ],
   "source": [
    "arr_5.ndim"
   ]
  },
  {
   "cell_type": "markdown",
   "id": "330a2c26",
   "metadata": {},
   "source": [
    "### Get duplicate entries"
   ]
  },
  {
   "cell_type": "code",
   "execution_count": 46,
   "id": "9ccd8d39",
   "metadata": {},
   "outputs": [
    {
     "data": {
      "text/plain": [
       "array([[[1, 2, 3],\n",
       "        [4, 5, 6],\n",
       "        [7, 8, 9]]])"
      ]
     },
     "execution_count": 46,
     "metadata": {},
     "output_type": "execute_result"
    }
   ],
   "source": [
    "arr_5 = np.array([[[1,2,3],[4,5,6],[7,8,9]]])\n",
    "arr_5"
   ]
  },
  {
   "cell_type": "code",
   "execution_count": 47,
   "id": "5717a4b1",
   "metadata": {},
   "outputs": [
    {
     "data": {
      "text/plain": [
       "array([[[1, 2, 3],\n",
       "        [4, 5, 6],\n",
       "        [7, 8, 9]],\n",
       "\n",
       "       [[1, 2, 3],\n",
       "        [4, 5, 6],\n",
       "        [7, 8, 9]],\n",
       "\n",
       "       [[1, 2, 3],\n",
       "        [4, 5, 6],\n",
       "        [7, 8, 9]],\n",
       "\n",
       "       [[1, 2, 3],\n",
       "        [4, 5, 6],\n",
       "        [7, 8, 9]],\n",
       "\n",
       "       [[1, 2, 3],\n",
       "        [4, 5, 6],\n",
       "        [7, 8, 9]]])"
      ]
     },
     "execution_count": 47,
     "metadata": {},
     "output_type": "execute_result"
    }
   ],
   "source": [
    "np.repeat(arr_5,repeats = 5,axis=0)"
   ]
  },
  {
   "cell_type": "markdown",
   "id": "589dd971",
   "metadata": {},
   "source": [
    "### Sequencing and Random Numbers"
   ]
  },
  {
   "cell_type": "code",
   "execution_count": 48,
   "id": "d8e40b29",
   "metadata": {},
   "outputs": [
    {
     "data": {
      "text/plain": [
       "array([ 1,  2,  3,  4,  5,  6,  7,  8,  9, 10])"
      ]
     },
     "execution_count": 48,
     "metadata": {},
     "output_type": "execute_result"
    }
   ],
   "source": [
    "np.arange(1,11)"
   ]
  },
  {
   "cell_type": "code",
   "execution_count": 49,
   "id": "86e551ef",
   "metadata": {},
   "outputs": [
    {
     "data": {
      "text/plain": [
       "array([  1.   ,   5.125,   9.25 ,  13.375,  17.5  ,  21.625,  25.75 ,\n",
       "        29.875,  34.   ,  38.125,  42.25 ,  46.375,  50.5  ,  54.625,\n",
       "        58.75 ,  62.875,  67.   ,  71.125,  75.25 ,  79.375,  83.5  ,\n",
       "        87.625,  91.75 ,  95.875, 100.   ])"
      ]
     },
     "execution_count": 49,
     "metadata": {},
     "output_type": "execute_result"
    }
   ],
   "source": [
    "np.linspace(start = 1,stop = 100,num=25)"
   ]
  },
  {
   "cell_type": "code",
   "execution_count": 50,
   "id": "16976c62",
   "metadata": {},
   "outputs": [
    {
     "data": {
      "text/plain": [
       "array([[0.82, 0.51, 0.71, 0.51, 0.39, 0.22, 0.12, 0.74, 0.09, 0.44],\n",
       "       [0.56, 0.89, 0.75, 0.23, 0.85, 0.74, 0.82, 0.09, 0.93, 0.45],\n",
       "       [0.75, 0.29, 0.61, 0.4 , 0.71, 0.65, 0.75, 0.13, 0.  , 0.15],\n",
       "       [0.57, 0.46, 0.19, 0.88, 0.61, 0.44, 0.14, 0.35, 0.62, 0.56],\n",
       "       [0.7 , 0.38, 0.2 , 0.76, 0.14, 0.76, 0.9 , 0.73, 0.81, 1.  ],\n",
       "       [0.39, 0.31, 0.04, 0.45, 0.02, 0.07, 0.59, 0.65, 0.76, 0.63],\n",
       "       [0.88, 0.68, 0.78, 0.49, 0.45, 0.43, 0.63, 0.67, 0.85, 0.97],\n",
       "       [0.8 , 0.52, 0.51, 0.76, 0.21, 0.73, 0.84, 0.38, 0.02, 0.42],\n",
       "       [0.86, 0.15, 0.59, 0.47, 0.01, 0.67, 0.73, 0.05, 0.62, 0.77],\n",
       "       [0.64, 0.92, 0.45, 0.6 , 0.31, 0.59, 0.65, 0.73, 0.75, 0.5 ]])"
      ]
     },
     "execution_count": 50,
     "metadata": {},
     "output_type": "execute_result"
    }
   ],
   "source": [
    "random_numbers_uniform_distribtion = np.random.rand(10,10).round(2)\n",
    "random_numbers_uniform_distribtion "
   ]
  },
  {
   "cell_type": "code",
   "execution_count": 51,
   "id": "96e0cd07",
   "metadata": {},
   "outputs": [
    {
     "data": {
      "image/png": "[encoded data removed]",
      "text/plain": [
       "<Figure size 432x288 with 1 Axes>"
      ]
     },
     "metadata": {
      "needs_background": "light"
     },
     "output_type": "display_data"
    }
   ],
   "source": [
    "import matplotlib.pyplot as plt\n",
    "plt.hist(random_numbers_uniform_distribtion)\n",
    "plt.show()"
   ]
  },
  {
   "cell_type": "code",
   "execution_count": 52,
   "id": "aa894955",
   "metadata": {},
   "outputs": [
    {
     "data": {
      "text/plain": [
       "array([[-1.0856306 ,  0.99734545,  0.2829785 , -1.50629471, -0.57860025,\n",
       "         1.65143654, -2.42667924, -0.42891263,  1.26593626, -0.8667404 ],\n",
       "       [-0.67888615, -0.09470897,  1.49138963, -0.638902  , -0.44398196,\n",
       "        -0.43435128,  2.20593008,  2.18678609,  1.0040539 ,  0.3861864 ],\n",
       "       [ 0.73736858,  1.49073203, -0.93583387,  1.17582904, -1.25388067,\n",
       "        -0.6377515 ,  0.9071052 , -1.4286807 , -0.14006872, -0.8617549 ],\n",
       "       [-0.25561937, -2.79858911, -1.7715331 , -0.69987723,  0.92746243,\n",
       "        -0.17363568,  0.00284592,  0.68822271, -0.87953634,  0.28362732],\n",
       "       [-0.80536652, -1.72766949, -0.39089979,  0.57380586,  0.33858905,\n",
       "        -0.01183049,  2.39236527,  0.41291216,  0.97873601,  2.23814334],\n",
       "       [-1.29408532, -1.03878821,  1.74371223, -0.79806274,  0.02968323,\n",
       "         1.06931597,  0.89070639,  1.75488618,  1.49564414,  1.06939267],\n",
       "       [-0.77270871,  0.79486267,  0.31427199, -1.32626546,  1.41729905,\n",
       "         0.80723653,  0.04549008, -0.23309206, -1.19830114,  0.19952407],\n",
       "       [ 0.46843912, -0.83115498,  1.16220405, -1.09720305, -2.12310035,\n",
       "         1.03972709, -0.40336604, -0.12602959, -0.83751672, -1.60596276],\n",
       "       [ 1.25523737, -0.68886898,  1.66095249,  0.80730819, -0.31475815,\n",
       "        -1.0859024 , -0.73246199, -1.21252313,  2.08711336,  0.16444123],\n",
       "       [ 1.15020554, -1.26735205,  0.18103513,  1.17786194, -0.33501076,\n",
       "         1.03111446, -1.08456791, -1.36347154,  0.37940061, -0.37917643]])"
      ]
     },
     "execution_count": 52,
     "metadata": {},
     "output_type": "execute_result"
    }
   ],
   "source": [
    "np.random.seed(123)\n",
    "\n",
    "random_numbers_norm_distribution = np.random.randn(10,10)\n",
    "random_numbers_norm_distribution"
   ]
  },
  {
   "cell_type": "code",
   "execution_count": 53,
   "id": "7dc6c16e",
   "metadata": {},
   "outputs": [
    {
     "data": {
      "image/png": "[encoded data removed]",
      "text/plain": [
       "<Figure size 432x288 with 1 Axes>"
      ]
     },
     "metadata": {
      "needs_background": "light"
     },
     "output_type": "display_data"
    }
   ],
   "source": [
    "plt.hist(random_numbers_norm_distribution)\n",
    "plt.show()"
   ]
  },
  {
   "cell_type": "markdown",
   "id": "eaf6366c",
   "metadata": {},
   "source": [
    "# THE END!!"
   ]
  }
 ],
 "metadata": {
  "kernelspec": {
   "display_name": "Python 3 (ipykernel)",
   "language": "python",
   "name": "python3"
  },
  "language_info": {
   "codemirror_mode": {
    "name": "ipython",
    "version": 3
   },
   "file_extension": ".py",
   "mimetype": "text/x-python",
   "name": "python",
   "nbconvert_exporter": "python",
   "pygments_lexer": "ipython3",
   "version": "3.9.12"
  }
 },
 "nbformat": 4,
 "nbformat_minor": 5
}
